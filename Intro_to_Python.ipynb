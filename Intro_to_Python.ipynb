{
  "nbformat": 4,
  "nbformat_minor": 0,
  "metadata": {
    "colab": {
      "provenance": [],
      "collapsed_sections": [],
      "authorship_tag": "ABX9TyMZgeQbSN7K8MxoOWF8f1p2",
      "include_colab_link": true
    },
    "kernelspec": {
      "name": "python3",
      "display_name": "Python 3"
    },
    "language_info": {
      "name": "python"
    }
  },
  "cells": [
    {
      "cell_type": "markdown",
      "metadata": {
        "id": "view-in-github",
        "colab_type": "text"
      },
      "source": [
        "<a href=\"https://colab.research.google.com/github/ChristianMarcusGarcia/PLNG211-2-OLFU-QC/blob/main/Intro_to_Python.ipynb\" target=\"_parent\"><img src=\"https://colab.research.google.com/assets/colab-badge.svg\" alt=\"Open In Colab\"/></a>"
      ]
    },
    {
      "cell_type": "markdown",
      "source": [
        "Comment\n"
      ],
      "metadata": {
        "id": "mWyjYNNY8FnM"
      }
    },
    {
      "cell_type": "code",
      "source": [
        "\n",
        "# This is a comment\n",
        "print(\"Hello, world\")"
      ],
      "metadata": {
        "colab": {
          "base_uri": "https://localhost:8080/"
        },
        "id": "pVJzJx4O8vAt",
        "outputId": "f14e6c56-cb6a-4fe5-8134-06ad6799113d"
      },
      "execution_count": 1,
      "outputs": [
        {
          "output_type": "stream",
          "name": "stdout",
          "text": [
            "Hello, world\n"
          ]
        }
      ]
    },
    {
      "cell_type": "markdown",
      "source": [
        "Python Variable"
      ],
      "metadata": {
        "id": "76CWZ-hd-Gaf"
      }
    },
    {
      "cell_type": "code",
      "source": [
        "#Single variable\n",
        "a = 0 \n",
        "b = -1\n",
        "\n",
        "#multiple variables\n",
        "a,b = 8,-1\n",
        "print(a)\n",
        "\n",
        "#string type\n",
        "c = \"Ela\""
      ],
      "metadata": {
        "colab": {
          "base_uri": "https://localhost:8080/"
        },
        "id": "WPY6rdsL-TJG",
        "outputId": "9ee12b12-2038-4638-bc6a-811e7fc5d11a"
      },
      "execution_count": 26,
      "outputs": [
        {
          "output_type": "stream",
          "name": "stdout",
          "text": [
            "8\n"
          ]
        }
      ]
    },
    {
      "cell_type": "code",
      "source": [
        "print(a)\n",
        "print(c)"
      ],
      "metadata": {
        "colab": {
          "base_uri": "https://localhost:8080/"
        },
        "id": "M9ayKqXO-nAd",
        "outputId": "07be23e3-c4cc-44ab-8d51-62758fecac7f"
      },
      "execution_count": 27,
      "outputs": [
        {
          "output_type": "stream",
          "name": "stdout",
          "text": [
            "8\n",
            "Ela\n"
          ]
        }
      ]
    },
    {
      "cell_type": "markdown",
      "source": [
        "Type function"
      ],
      "metadata": {
        "id": "UD1KhSXKA71M"
      }
    },
    {
      "cell_type": "code",
      "source": [
        "print(type(c))"
      ],
      "metadata": {
        "colab": {
          "base_uri": "https://localhost:8080/"
        },
        "id": "M57NR2_tA86E",
        "outputId": "727df65d-a25e-4916-b41c-fe66d9bab093"
      },
      "execution_count": 16,
      "outputs": [
        {
          "output_type": "stream",
          "name": "stdout",
          "text": [
            "<class 'str'>\n"
          ]
        }
      ]
    },
    {
      "cell_type": "code",
      "source": [
        "#Proper Indentation\n",
        "\n",
        "if 5>2:\n",
        "  print(\"5 is greater than 1\")"
      ],
      "metadata": {
        "colab": {
          "base_uri": "https://localhost:8080/"
        },
        "id": "35C2rA8zBTJ8",
        "outputId": "ba189fd9-2855-4c04-a289-ee5cefa5e6be"
      },
      "execution_count": 23,
      "outputs": [
        {
          "output_type": "stream",
          "name": "stdout",
          "text": [
            "5 is greater than 1\n"
          ]
        }
      ]
    },
    {
      "cell_type": "markdown",
      "source": [
        "Singe and Double Quote"
      ],
      "metadata": {
        "id": "G7oNwebDBwv6"
      }
    },
    {
      "cell_type": "code",
      "source": [
        "f = \"Jane\"\n",
        "g = 'Jane'\n",
        "\n",
        "print(f)\n",
        "print(g)"
      ],
      "metadata": {
        "colab": {
          "base_uri": "https://localhost:8080/"
        },
        "id": "wTR0eMg9B0zb",
        "outputId": "c8498a28-268c-418a-8e0b-d6c3a538e1df"
      },
      "execution_count": 24,
      "outputs": [
        {
          "output_type": "stream",
          "name": "stdout",
          "text": [
            "Jane\n",
            "Jane\n"
          ]
        }
      ]
    },
    {
      "cell_type": "markdown",
      "source": [
        "Multiple Variables"
      ],
      "metadata": {
        "id": "hjj-STf6COH-"
      }
    },
    {
      "cell_type": "code",
      "source": [
        "x,y,z = 1,2,3\n",
        "\n",
        "print(x)\n",
        "print(y)\n",
        "print(z)"
      ],
      "metadata": {
        "colab": {
          "base_uri": "https://localhost:8080/"
        },
        "id": "BD23ukH3CQQQ",
        "outputId": "43a1810f-2388-4ca8-90f3-1d7a7f07a293"
      },
      "execution_count": 25,
      "outputs": [
        {
          "output_type": "stream",
          "name": "stdout",
          "text": [
            "1\n",
            "2\n",
            "3\n"
          ]
        }
      ]
    },
    {
      "cell_type": "markdown",
      "source": [
        "Single Values to Multiple Variables"
      ],
      "metadata": {
        "id": "Oqo0_QfYCmsl"
      }
    },
    {
      "cell_type": "code",
      "source": [
        "x=y=z=\"python\"\n",
        "print(x)\n",
        "print(y)\n",
        "print(z)"
      ],
      "metadata": {
        "colab": {
          "base_uri": "https://localhost:8080/"
        },
        "id": "x6aMWvqICpet",
        "outputId": "f5d2941c-5319-4651-a9ef-124e5d27cc0d"
      },
      "execution_count": 28,
      "outputs": [
        {
          "output_type": "stream",
          "name": "stdout",
          "text": [
            "python\n",
            "python\n",
            "python\n"
          ]
        }
      ]
    },
    {
      "cell_type": "markdown",
      "source": [
        "Output Variables"
      ],
      "metadata": {
        "id": "DIyTjmBCC3A6"
      }
    },
    {
      "cell_type": "code",
      "source": [
        "x=\"enjoying\"\n",
        "y=\"Python programming is \"\n",
        "print(y+x)"
      ],
      "metadata": {
        "colab": {
          "base_uri": "https://localhost:8080/"
        },
        "id": "HIUIXjYEC3pa",
        "outputId": "e225bfed-1d91-4ccf-841f-18f2559130e1"
      },
      "execution_count": 36,
      "outputs": [
        {
          "output_type": "stream",
          "name": "stdout",
          "text": [
            "Python programming is enjoying\n"
          ]
        }
      ]
    },
    {
      "cell_type": "markdown",
      "source": [
        "Arithmetic Operations and Assignment Operators"
      ],
      "metadata": {
        "id": "5GXaD4ClEs6J"
      }
    },
    {
      "cell_type": "code",
      "source": [
        "a = 3%2\n",
        "print(a)\n",
        "b = 3//2\n",
        "print(b)\n",
        "\n",
        "c = 7\n",
        "print(c**2)\n",
        "\n",
        "c+=3\n",
        "print(c)\n"
      ],
      "metadata": {
        "colab": {
          "base_uri": "https://localhost:8080/"
        },
        "id": "szKSR_XsEzTR",
        "outputId": "984b369a-ad2f-45bc-ae6d-34e040ff1c66"
      },
      "execution_count": 48,
      "outputs": [
        {
          "output_type": "stream",
          "name": "stdout",
          "text": [
            "1\n",
            "1\n",
            "49\n",
            "10\n"
          ]
        }
      ]
    },
    {
      "cell_type": "markdown",
      "source": [
        "Comparison Operators"
      ],
      "metadata": {
        "id": "5PXedQwxGZRF"
      }
    },
    {
      "cell_type": "code",
      "source": [
        "i=5>2\n",
        "h=3>5\n",
        "\n",
        "print(i)\n",
        "print(h)"
      ],
      "metadata": {
        "colab": {
          "base_uri": "https://localhost:8080/"
        },
        "id": "vA_5dfvAGbdo",
        "outputId": "2869c113-a197-42ae-dcf3-ba0b9a052c87"
      },
      "execution_count": 51,
      "outputs": [
        {
          "output_type": "stream",
          "name": "stdout",
          "text": [
            "True\n",
            "False\n"
          ]
        }
      ]
    },
    {
      "cell_type": "markdown",
      "source": [
        "Identity Operators"
      ],
      "metadata": {
        "id": "ZWHwGYLXG5aG"
      }
    },
    {
      "cell_type": "code",
      "source": [
        "i is not h"
      ],
      "metadata": {
        "colab": {
          "base_uri": "https://localhost:8080/"
        },
        "id": "YTHQb7tsG7Nd",
        "outputId": "18507db0-3260-4813-c4ea-54dceeb774c7"
      },
      "execution_count": 52,
      "outputs": [
        {
          "output_type": "execute_result",
          "data": {
            "text/plain": [
              "True"
            ]
          },
          "metadata": {},
          "execution_count": 52
        }
      ]
    }
  ]
}